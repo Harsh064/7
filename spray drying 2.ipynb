{
 "cells": [
  {
   "cell_type": "code",
   "execution_count": 1,
   "id": "000b83b3",
   "metadata": {},
   "outputs": [
    {
     "name": "stdout",
     "output_type": "stream",
     "text": [
      "Requirement already satisfied: deap in c:\\users\\pajag\\anaconda3\\lib\\site-packages (1.4.1)\n",
      "Requirement already satisfied: numpy in c:\\users\\pajag\\anaconda3\\lib\\site-packages (from deap) (1.20.0)\n"
     ]
    },
    {
     "name": "stderr",
     "output_type": "stream",
     "text": [
      "WARNING: Ignoring invalid distribution -rotobuf (c:\\users\\pajag\\anaconda3\\lib\\site-packages)\n",
      "WARNING: Ignoring invalid distribution -rotobuf (c:\\users\\pajag\\anaconda3\\lib\\site-packages)\n",
      "WARNING: Ignoring invalid distribution -rotobuf (c:\\users\\pajag\\anaconda3\\lib\\site-packages)\n",
      "WARNING: Ignoring invalid distribution -rotobuf (c:\\users\\pajag\\anaconda3\\lib\\site-packages)\n",
      "WARNING: Ignoring invalid distribution -rotobuf (c:\\users\\pajag\\anaconda3\\lib\\site-packages)\n",
      "WARNING: Ignoring invalid distribution -rotobuf (c:\\users\\pajag\\anaconda3\\lib\\site-packages)\n",
      "WARNING: You are using pip version 21.3.1; however, version 24.0 is available.\n",
      "You should consider upgrading via the 'c:\\users\\pajag\\anaconda3\\python.exe -m pip install --upgrade pip' command.\n"
     ]
    }
   ],
   "source": [
    "!pip install deap"
   ]
  },
  {
   "cell_type": "code",
   "execution_count": 1,
   "id": "e680b7ea",
   "metadata": {},
   "outputs": [
    {
     "name": "stdout",
     "output_type": "stream",
     "text": [
      "Collecting scoop\n",
      "  Downloading scoop-0.7.2.0.tar.gz (615 kB)\n",
      "  Preparing metadata (setup.py): started\n",
      "  Preparing metadata (setup.py): finished with status 'done'\n",
      "Requirement already satisfied: greenlet>=0.3.4 in c:\\users\\pajag\\anaconda3\\lib\\site-packages (from scoop) (1.0.0)\n",
      "Requirement already satisfied: pyzmq>=13.1.0 in c:\\users\\pajag\\anaconda3\\lib\\site-packages (from scoop) (20.0.0)\n",
      "Building wheels for collected packages: scoop\n",
      "  Building wheel for scoop (setup.py): started\n",
      "  Building wheel for scoop (setup.py): finished with status 'done'\n",
      "  Created wheel for scoop: filename=scoop-0.7.2.0-py3-none-any.whl size=78095 sha256=59efb6a6463f8485a2bef7c6e6ff96d2bbee477c8efa88ca92f852b51f140877\n",
      "  Stored in directory: c:\\users\\pajag\\appdata\\local\\pip\\cache\\wheels\\06\\d1\\b8\\b4495d80f3aa67a67b8d19a900892d4f6af3c6d1bdd3cd015c\n",
      "Successfully built scoop\n",
      "Installing collected packages: scoop\n",
      "Successfully installed scoop-0.7.2.0\n"
     ]
    },
    {
     "name": "stderr",
     "output_type": "stream",
     "text": [
      "WARNING: Ignoring invalid distribution -rotobuf (c:\\users\\pajag\\anaconda3\\lib\\site-packages)\n",
      "WARNING: Ignoring invalid distribution -rotobuf (c:\\users\\pajag\\anaconda3\\lib\\site-packages)\n",
      "WARNING: Ignoring invalid distribution -rotobuf (c:\\users\\pajag\\anaconda3\\lib\\site-packages)\n",
      "WARNING: Ignoring invalid distribution -rotobuf (c:\\users\\pajag\\anaconda3\\lib\\site-packages)\n",
      "WARNING: Ignoring invalid distribution -rotobuf (c:\\users\\pajag\\anaconda3\\lib\\site-packages)\n",
      "WARNING: Ignoring invalid distribution -rotobuf (c:\\users\\pajag\\anaconda3\\lib\\site-packages)\n",
      "WARNING: Ignoring invalid distribution -rotobuf (c:\\users\\pajag\\anaconda3\\lib\\site-packages)\n",
      "WARNING: You are using pip version 21.3.1; however, version 24.0 is available.\n",
      "You should consider upgrading via the 'c:\\users\\pajag\\anaconda3\\python.exe -m pip install --upgrade pip' command.\n"
     ]
    }
   ],
   "source": [
    "!pip install scoop"
   ]
  },
  {
   "cell_type": "code",
   "execution_count": 2,
   "id": "802c71b4",
   "metadata": {},
   "outputs": [
    {
     "name": "stderr",
     "output_type": "stream",
     "text": [
      "C:\\Users\\pajag\\anaconda3\\lib\\site-packages\\numpy\\_distributor_init.py:30: UserWarning: loaded more than 1 DLL from .libs:\n",
      "C:\\Users\\pajag\\anaconda3\\lib\\site-packages\\numpy\\.libs\\libopenblas.4sp5sua7cbgxueoc35yp2asoicyyeqzz.gfortran-win_amd64.dll\n",
      "C:\\Users\\pajag\\anaconda3\\lib\\site-packages\\numpy\\.libs\\libopenblas.WCDJNK7YVMPZQ2ME2ZZHJJRJ3JIKNDB7.gfortran-win_amd64.dll\n",
      "  warnings.warn(\"loaded more than 1 DLL from .libs:\"\n"
     ]
    }
   ],
   "source": [
    "import random\n",
    "import os\n",
    "import pandas as pd\n",
    "from deap import base, creator, tools, algorithms\n",
    "from sklearn.model_selection import train_test_split\n",
    "from sklearn.neural_network import MLPClassifier\n",
    "from sklearn.metrics import accuracy_score\n",
    "from sklearn.datasets import load_iris\n",
    "from sklearn.preprocessing import StandardScaler"
   ]
  },
  {
   "cell_type": "code",
   "execution_count": 3,
   "id": "b76d8fc7",
   "metadata": {},
   "outputs": [
    {
     "data": {
      "text/plain": [
       "'C:\\\\Users\\\\pajag\\\\CL3'"
      ]
     },
     "execution_count": 3,
     "metadata": {},
     "output_type": "execute_result"
    }
   ],
   "source": [
    "os.getcwd()"
   ]
  },
  {
   "cell_type": "code",
   "execution_count": 4,
   "id": "34665179",
   "metadata": {},
   "outputs": [],
   "source": [
    "data = pd.read_csv('C://Users//pajag//CL3//spray_drying_dataset.csv')"
   ]
  },
  {
   "cell_type": "code",
   "execution_count": 5,
   "id": "aff6f8b1",
   "metadata": {},
   "outputs": [
    {
     "data": {
      "text/html": [
       "<div>\n",
       "<style scoped>\n",
       "    .dataframe tbody tr th:only-of-type {\n",
       "        vertical-align: middle;\n",
       "    }\n",
       "\n",
       "    .dataframe tbody tr th {\n",
       "        vertical-align: top;\n",
       "    }\n",
       "\n",
       "    .dataframe thead th {\n",
       "        text-align: right;\n",
       "    }\n",
       "</style>\n",
       "<table border=\"1\" class=\"dataframe\">\n",
       "  <thead>\n",
       "    <tr style=\"text-align: right;\">\n",
       "      <th></th>\n",
       "      <th>Temperature</th>\n",
       "      <th>Humidity</th>\n",
       "      <th>Spray Rate</th>\n",
       "      <th>Drying Time</th>\n",
       "      <th>Quality</th>\n",
       "    </tr>\n",
       "  </thead>\n",
       "  <tbody>\n",
       "    <tr>\n",
       "      <th>0</th>\n",
       "      <td>175.956459</td>\n",
       "      <td>54.407629</td>\n",
       "      <td>14.406068</td>\n",
       "      <td>50.005617</td>\n",
       "      <td>754.164055</td>\n",
       "    </tr>\n",
       "    <tr>\n",
       "      <th>1</th>\n",
       "      <td>166.228489</td>\n",
       "      <td>39.826438</td>\n",
       "      <td>6.845032</td>\n",
       "      <td>33.897062</td>\n",
       "      <td>783.131786</td>\n",
       "    </tr>\n",
       "    <tr>\n",
       "      <th>2</th>\n",
       "      <td>189.617999</td>\n",
       "      <td>67.401566</td>\n",
       "      <td>9.368294</td>\n",
       "      <td>77.047256</td>\n",
       "      <td>722.429591</td>\n",
       "    </tr>\n",
       "    <tr>\n",
       "      <th>3</th>\n",
       "      <td>197.520667</td>\n",
       "      <td>31.168664</td>\n",
       "      <td>10.347157</td>\n",
       "      <td>99.619200</td>\n",
       "      <td>767.927211</td>\n",
       "    </tr>\n",
       "    <tr>\n",
       "      <th>4</th>\n",
       "      <td>151.210966</td>\n",
       "      <td>59.009009</td>\n",
       "      <td>5.912891</td>\n",
       "      <td>52.393744</td>\n",
       "      <td>779.154027</td>\n",
       "    </tr>\n",
       "  </tbody>\n",
       "</table>\n",
       "</div>"
      ],
      "text/plain": [
       "   Temperature   Humidity  Spray Rate  Drying Time     Quality\n",
       "0   175.956459  54.407629   14.406068    50.005617  754.164055\n",
       "1   166.228489  39.826438    6.845032    33.897062  783.131786\n",
       "2   189.617999  67.401566    9.368294    77.047256  722.429591\n",
       "3   197.520667  31.168664   10.347157    99.619200  767.927211\n",
       "4   151.210966  59.009009    5.912891    52.393744  779.154027"
      ]
     },
     "execution_count": 5,
     "metadata": {},
     "output_type": "execute_result"
    }
   ],
   "source": [
    "data.head()"
   ]
  },
  {
   "cell_type": "code",
   "execution_count": 6,
   "id": "af2b5fff",
   "metadata": {},
   "outputs": [
    {
     "data": {
      "text/plain": [
       "Index(['Temperature', 'Humidity', 'Spray Rate', 'Drying Time', 'Quality'], dtype='object')"
      ]
     },
     "execution_count": 6,
     "metadata": {},
     "output_type": "execute_result"
    }
   ],
   "source": [
    "data.columns"
   ]
  },
  {
   "cell_type": "code",
   "execution_count": 7,
   "id": "0de8d885",
   "metadata": {},
   "outputs": [],
   "source": [
    "X = data.drop('Spray Rate',axis=1)\n",
    "y = data['Spray Rate']"
   ]
  },
  {
   "cell_type": "code",
   "execution_count": 8,
   "id": "9932a789",
   "metadata": {},
   "outputs": [],
   "source": [
    "scaler = StandardScaler()\n",
    "X_normalized = scaler.fit_transform(X)\n",
    "\n",
    "X_train, X_test, y_train, y_test = train_test_split(X_normalized, y.ravel(), test_size=0.2, random_state=42)"
   ]
  },
  {
   "cell_type": "code",
   "execution_count": 9,
   "id": "fce06864",
   "metadata": {},
   "outputs": [],
   "source": [
    "X_train, X_valid, y_train, y_valid = train_test_split(X, y, test_size=0.2, random_state=42)"
   ]
  },
  {
   "cell_type": "code",
   "execution_count": 19,
   "id": "65fe3b0e",
   "metadata": {},
   "outputs": [
    {
     "name": "stdout",
     "output_type": "stream",
     "text": [
      "Best Parameters: [96, 30]\n"
     ]
    }
   ],
   "source": [
    "def evaluate(individual):\n",
    "    neurons = individual[0]\n",
    "    layers = individual[1]\n",
    "\n",
    "    model = MLPClassifier(hidden_layer_sizes=(neurons,) * layers, random_state=42, max_iter=10000)\n",
    "    model.fit(X_train, y_train)\n",
    "\n",
    "    predictions = model.predict(X_test)\n",
    "    accuracy = accuracy_score(y_test, predictions)\n",
    "    print(f'n_Neurons: {neurons}. n_Layers:{layers}. ___ACC___: {accuracy}\\n')\n",
    "\n",
    "    return accuracy,\n",
    "\n",
    "POPULATION_SIZE = 10\n",
    "GENERATIONS = 5\n",
    "\n",
    "creator.create(\"FitnessMax\", base.Fitness, weights=(1.0,))\n",
    "creator.create(\"Individual\", list, fitness=creator.FitnessMax)\n",
    "\n",
    "toolbox = base.Toolbox()\n",
    "\n",
    "toolbox.register(\"attr_neurons\", random.randint, 1, 100)\n",
    "toolbox.register(\"attr_layers\", random.randint, 1, 5)\n",
    "toolbox.register(\"individual\", tools.initCycle, creator.Individual, (toolbox.attr_neurons, toolbox.attr_layers), n=1)\n",
    "toolbox.register(\"population\", tools.initRepeat, list, toolbox.individual)\n",
    "\n",
    "toolbox.register(\"evaluate\", evaluate)\n",
    "toolbox.register(\"mate\", tools.cxTwoPoint)\n",
    "toolbox.register(\"mutate\", tools.mutUniformInt, low=1, up=100, indpb=0.2)\n",
    "toolbox.register(\"select\", tools.selTournament, tournsize=3)\n",
    "\n",
    "population = toolbox.population(n=POPULATION_SIZE)\n",
    "\n",
    "for gen in range(GENERATIONS):\n",
    "    offspring = algorithms.varAnd(population, toolbox, cxpb=0.5, mutpb=0.1)\n",
    "\n",
    "    fitnesses = toolbox.map(toolbox.evaluate, offspring)\n",
    "    \n",
    "    population = toolbox.select(offspring, k=len(population))\n",
    "\n",
    "best_individual = tools.selBest(population, k=1)[0]\n",
    "best_params = best_individual\n",
    "\n",
    "print(\"Best Parameters:\", best_params)\n",
    "\n"
   ]
  },
  {
   "cell_type": "code",
   "execution_count": null,
   "id": "ebd4d7b2",
   "metadata": {},
   "outputs": [],
   "source": []
  }
 ],
 "metadata": {
  "kernelspec": {
   "display_name": "Python 3",
   "language": "python",
   "name": "python3"
  },
  "language_info": {
   "codemirror_mode": {
    "name": "ipython",
    "version": 3
   },
   "file_extension": ".py",
   "mimetype": "text/x-python",
   "name": "python",
   "nbconvert_exporter": "python",
   "pygments_lexer": "ipython3",
   "version": "3.8.8"
  }
 },
 "nbformat": 4,
 "nbformat_minor": 5
}
