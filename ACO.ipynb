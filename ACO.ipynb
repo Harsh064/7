{
 "cells": [
  {
   "cell_type": "code",
   "execution_count": 1,
   "id": "f7b93684",
   "metadata": {},
   "outputs": [
    {
     "name": "stdout",
     "output_type": "stream",
     "text": [
      "Requirement already satisfied: antsys in c:\\users\\pajag\\anaconda3\\lib\\site-packages (0.1.44)\n",
      "Requirement already satisfied: numpy in c:\\users\\pajag\\anaconda3\\lib\\site-packages (from antsys) (1.20.0)\n"
     ]
    },
    {
     "name": "stderr",
     "output_type": "stream",
     "text": [
      "WARNING: Ignoring invalid distribution -rotobuf (c:\\users\\pajag\\anaconda3\\lib\\site-packages)\n",
      "WARNING: Ignoring invalid distribution -rotobuf (c:\\users\\pajag\\anaconda3\\lib\\site-packages)\n",
      "WARNING: Ignoring invalid distribution -rotobuf (c:\\users\\pajag\\anaconda3\\lib\\site-packages)\n",
      "WARNING: Ignoring invalid distribution -rotobuf (c:\\users\\pajag\\anaconda3\\lib\\site-packages)\n",
      "WARNING: Ignoring invalid distribution -rotobuf (c:\\users\\pajag\\anaconda3\\lib\\site-packages)\n",
      "WARNING: Ignoring invalid distribution -rotobuf (c:\\users\\pajag\\anaconda3\\lib\\site-packages)\n",
      "WARNING: You are using pip version 21.3.1; however, version 24.0 is available.\n",
      "You should consider upgrading via the 'c:\\users\\pajag\\anaconda3\\python.exe -m pip install --upgrade pip' command.\n"
     ]
    }
   ],
   "source": [
    "! pip install antsys"
   ]
  },
  {
   "cell_type": "code",
   "execution_count": 2,
   "id": "46a611e9",
   "metadata": {},
   "outputs": [
    {
     "name": "stderr",
     "output_type": "stream",
     "text": [
      "C:\\Users\\pajag\\anaconda3\\lib\\site-packages\\numpy\\_distributor_init.py:30: UserWarning: loaded more than 1 DLL from .libs:\n",
      "C:\\Users\\pajag\\anaconda3\\lib\\site-packages\\numpy\\.libs\\libopenblas.4sp5sua7cbgxueoc35yp2asoicyyeqzz.gfortran-win_amd64.dll\n",
      "C:\\Users\\pajag\\anaconda3\\lib\\site-packages\\numpy\\.libs\\libopenblas.WCDJNK7YVMPZQ2ME2ZZHJJRJ3JIKNDB7.gfortran-win_amd64.dll\n",
      "  warnings.warn(\"loaded more than 1 DLL from .libs:\"\n"
     ]
    }
   ],
   "source": [
    "from antsys import AntSystem\n",
    "from antsys import AntWorld\n",
    "import random\n",
    "import numpy as np"
   ]
  },
  {
   "cell_type": "code",
   "execution_count": 3,
   "id": "6fb1619e",
   "metadata": {},
   "outputs": [],
   "source": [
    "cities = []\n",
    "for city in range(10):\n",
    "  x = random.uniform(-100, 100)\n",
    "  y = random.uniform(-100, 100)\n",
    "  cities.append((city, x, y))"
   ]
  },
  {
   "cell_type": "code",
   "execution_count": 4,
   "id": "0a1ed4f4",
   "metadata": {},
   "outputs": [
    {
     "data": {
      "text/plain": [
       "[(0, -1.2227052049164797, -76.18270883004425),\n",
       " (1, -3.706565465305374, -3.4800927616827124),\n",
       " (2, -95.99369713230617, 32.26413559685781),\n",
       " (3, -84.52629641004901, -18.036062085528044),\n",
       " (4, -70.13672698268354, -79.81120584715373),\n",
       " (5, -79.07732156530578, 67.34061153831613),\n",
       " (6, 79.38192468787724, -47.1580841116316),\n",
       " (7, 78.47560366885793, -90.31065610204605),\n",
       " (8, -23.679327754135684, 39.352566152067794),\n",
       " (9, -52.81861652476019, -24.120741949590368)]"
      ]
     },
     "execution_count": 4,
     "metadata": {},
     "output_type": "execute_result"
    }
   ],
   "source": [
    "cities"
   ]
  },
  {
   "cell_type": "code",
   "execution_count": 5,
   "id": "06ab63b0",
   "metadata": {},
   "outputs": [],
   "source": [
    "def salesman_rules(start, end):\n",
    "  return [((start[1]-end[1])**2+(start[2]-end[2])**2)**0.5]"
   ]
  },
  {
   "cell_type": "code",
   "execution_count": 6,
   "id": "5943a1ce",
   "metadata": {},
   "outputs": [],
   "source": [
    "def salesman_cost(path):\n",
    "  cost = 0\n",
    "  for edge in path:\n",
    "    cost+=edge.info\n",
    "  return cost"
   ]
  },
  {
   "cell_type": "code",
   "execution_count": 7,
   "id": "c834f44a",
   "metadata": {},
   "outputs": [],
   "source": [
    "def salesman_info(path, candidate):\n",
    "  return candidate.info"
   ]
  },
  {
   "cell_type": "code",
   "execution_count": 8,
   "id": "aed3d43a",
   "metadata": {},
   "outputs": [],
   "source": [
    "new_world = AntWorld(cities, salesman_rules, salesman_cost, salesman_info)"
   ]
  },
  {
   "cell_type": "code",
   "execution_count": 9,
   "id": "ae790792",
   "metadata": {},
   "outputs": [],
   "source": [
    "ant_opt = AntSystem(world=new_world, n_ants=50)"
   ]
  },
  {
   "cell_type": "code",
   "execution_count": 10,
   "id": "89f8383a",
   "metadata": {
    "scrolled": true
   },
   "outputs": [
    {
     "name": "stdout",
     "output_type": "stream",
     "text": [
      "| iter |         min        |         max        |        best        |\n",
      "|     1|             696.422|             1130.68|             696.422|\n",
      "|     2|             715.209|              1141.1|             696.422|\n",
      "|     3|             677.322|             1320.26|             677.322|\n",
      "|     4|             694.085|             1143.84|             677.322|\n",
      "|     5|              577.45|             1180.99|              577.45|\n",
      "|     6|             652.516|             1162.93|              577.45|\n",
      "|     7|             706.616|             1066.38|              577.45|\n",
      "|     8|             643.868|                1163|              577.45|\n",
      "|     9|             660.598|             1266.44|              577.45|\n",
      "|    10|             688.422|             1180.41|              577.45|\n",
      "|    11|              577.45|             1118.19|              577.45|\n",
      "|    12|             667.331|             1176.32|              577.45|\n",
      "|    13|             682.892|             1195.46|              577.45|\n",
      "|    14|              692.14|             1119.75|              577.45|\n",
      "|    15|             732.068|             1200.45|              577.45|\n",
      "|    16|             751.711|             1158.22|              577.45|\n",
      "|    17|              706.77|             1233.76|              577.45|\n",
      "|    18|             653.203|             1090.27|              577.45|\n",
      "|    19|             667.133|             1227.22|              577.45|\n",
      "|    20|              725.34|             1166.99|              577.45|\n",
      "|    21|             640.358|             1234.58|              577.45|\n",
      "|    22|             661.894|             1195.04|              577.45|\n",
      "|    23|             652.516|             1179.86|              577.45|\n",
      "|    24|             601.983|             1140.56|              577.45|\n",
      "|    25|              684.45|             1162.44|              577.45|\n",
      "|    26|              577.45|             1253.95|              577.45|\n",
      "|    27|             636.717|             1140.14|              577.45|\n",
      "|    28|             696.462|             1187.07|              577.45|\n",
      "|    29|             697.522|             1266.35|              577.45|\n",
      "|    30|             674.327|             1195.46|              577.45|\n",
      "|    31|             659.351|             1244.35|              577.45|\n"
     ]
    }
   ],
   "source": [
    "ant_opt.optimize(50,20)"
   ]
  },
  {
   "cell_type": "code",
   "execution_count": 32,
   "id": "594df4b0",
   "metadata": {
    "scrolled": true
   },
   "outputs": [
    {
     "data": {
      "text/plain": [
       "[(2, -95.99369713230617, 32.26413559685781),\n",
       " (5, -79.07732156530578, 67.34061153831613),\n",
       " (8, -23.679327754135684, 39.352566152067794),\n",
       " (1, -3.706565465305374, -3.4800927616827124),\n",
       " (6, 79.38192468787724, -47.1580841116316),\n",
       " (7, 78.47560366885793, -90.31065610204605),\n",
       " (0, -1.2227052049164797, -76.18270883004425),\n",
       " (4, -70.13672698268354, -79.81120584715373),\n",
       " (9, -52.81861652476019, -24.120741949590368),\n",
       " (3, -84.52629641004901, -18.036062085528044)]"
      ]
     },
     "execution_count": 32,
     "metadata": {},
     "output_type": "execute_result"
    }
   ],
   "source": [
    "ant_opt.g_best[1]"
   ]
  },
  {
   "cell_type": "code",
   "execution_count": 44,
   "id": "003cd56d",
   "metadata": {},
   "outputs": [],
   "source": [
    "l = list(ant_opt.g_best[1])\n",
    "x_coords = [coord[1] for coord in l]\n",
    "y_coords = [coord[2] for coord in l]\n",
    "point_labels = [coord[0] for coord in l]"
   ]
  },
  {
   "cell_type": "code",
   "execution_count": 45,
   "id": "d1cd252e",
   "metadata": {},
   "outputs": [
    {
     "data": {
      "text/plain": [
       "[2, 5, 8, 1, 6, 7, 0, 4, 9, 3]"
      ]
     },
     "execution_count": 45,
     "metadata": {},
     "output_type": "execute_result"
    }
   ],
   "source": [
    "point_labels"
   ]
  },
  {
   "cell_type": "code",
   "execution_count": 41,
   "id": "d2917c49",
   "metadata": {},
   "outputs": [
    {
     "data": {
      "text/plain": [
       "[-95.99369713230617,\n",
       " -79.07732156530578,\n",
       " -23.679327754135684,\n",
       " -3.706565465305374,\n",
       " 79.38192468787724,\n",
       " 78.47560366885793,\n",
       " -1.2227052049164797,\n",
       " -70.13672698268354,\n",
       " -52.81861652476019,\n",
       " -84.52629641004901]"
      ]
     },
     "execution_count": 41,
     "metadata": {},
     "output_type": "execute_result"
    }
   ],
   "source": [
    "x_coords"
   ]
  },
  {
   "cell_type": "code",
   "execution_count": 42,
   "id": "28382d18",
   "metadata": {},
   "outputs": [
    {
     "data": {
      "text/plain": [
       "[32.26413559685781,\n",
       " 67.34061153831613,\n",
       " 39.352566152067794,\n",
       " -3.4800927616827124,\n",
       " -47.1580841116316,\n",
       " -90.31065610204605,\n",
       " -76.18270883004425,\n",
       " -79.81120584715373,\n",
       " -24.120741949590368,\n",
       " -18.036062085528044]"
      ]
     },
     "execution_count": 42,
     "metadata": {},
     "output_type": "execute_result"
    }
   ],
   "source": [
    "y_coords"
   ]
  },
  {
   "cell_type": "code",
   "execution_count": 18,
   "id": "e5d3d38e",
   "metadata": {},
   "outputs": [],
   "source": [
    "import matplotlib.pyplot as plt"
   ]
  },
  {
   "cell_type": "code",
   "execution_count": 46,
   "id": "c18b5db4",
   "metadata": {},
   "outputs": [
    {
     "data": {
      "image/png": "[encoded data removed]",
      "text/plain": [
       "<Figure size 576x432 with 1 Axes>"
      ]
     },
     "metadata": {
      "needs_background": "light"
     },
     "output_type": "display_data"
    }
   ],
   "source": [
    "plt.figure(figsize=(8, 6))\n",
    "plt.plot(x_coords, y_coords, marker='o', linestyle='-', color='blue')\n",
    "plt.xlabel('Longitude')\n",
    "plt.ylabel('Latitude')\n",
    "plt.title('Line Plot of Coordinates with Point Labels')\n",
    "plt.grid(True)\n",
    "for i, label in enumerate(point_labels):\n",
    "    plt.annotate(label, (x_coords[i], y_coords[i]), textcoords=\"offset points\", xytext=(0,10), ha='center')\n",
    "\n",
    "plt.show()"
   ]
  },
  {
   "cell_type": "code",
   "execution_count": null,
   "id": "c5513e5d",
   "metadata": {},
   "outputs": [],
   "source": []
  }
 ],
 "metadata": {
  "kernelspec": {
   "display_name": "Python 3 (ipykernel)",
   "language": "python",
   "name": "python3"
  },
  "language_info": {
   "codemirror_mode": {
    "name": "ipython",
    "version": 3
   },
   "file_extension": ".py",
   "mimetype": "text/x-python",
   "name": "python",
   "nbconvert_exporter": "python",
   "pygments_lexer": "ipython3",
   "version": "3.9.13"
  }
 },
 "nbformat": 4,
 "nbformat_minor": 5
}
